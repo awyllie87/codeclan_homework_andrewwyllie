{
 "cells": [
  {
   "cell_type": "markdown",
   "metadata": {},
   "source": [
    "# Homework\n",
    "\n",
    "This homework should consolidate everything you learnt in class today.\n",
    "\n"
   ]
  },
  {
   "cell_type": "markdown",
   "metadata": {},
   "source": [
    "<br> \n",
    "\n",
    "## Question 1\n",
    "\n",
    "Create a list with the following data, and assign it to a variable named shopping:\n",
    "'spam' 'ham' 'eggs' 'ham'\n",
    "\n",
    "Then do the following: \n",
    "\n",
    "1. Extract the second element of the list.\n",
    "\n",
    "2. Extract the first to third (inclusive) element of the list.\n",
    "\n",
    "3. Extract only the last element of the list."
   ]
  },
  {
   "cell_type": "code",
   "execution_count": 25,
   "metadata": {},
   "outputs": [
    {
     "name": "stdout",
     "output_type": "stream",
     "text": [
      "ham\n",
      "spam ham eggs\n",
      "ham\n"
     ]
    }
   ],
   "source": [
    "food = (\"spam\", \"ham\", \"eggs\", \"ham\")\n",
    "\n",
    "print(food[1])\n",
    "print(food[0], food[1], food[2])\n",
    "print(food[-1])"
   ]
  },
  {
   "cell_type": "markdown",
   "metadata": {},
   "source": [
    "<br>\n",
    "\n",
    "## Question 2\n",
    "\n",
    "Set up a list with the following elements:\n",
    "\n",
    "stops = [\"Croy\", \"Cumbernauld\", \"Falkirk High\", \n",
    "         \"Linlithgow\", \"Livingston\", \"Haymarket\"]\n",
    "\n",
    "Perform the following:\n",
    "\n",
    "1. Append Edinburgh Waverley to the end of the list\n",
    "1. Add \"Queen Street\" to the start of the list\n",
    "2. Find out what index \"Croy\" is at in the list\n",
    "3. Add \"Polmont\" at the appropriate point (between \"Falkirk High\" and \"Linlithgow\")\n",
    "4. Remove \"Haymarket\" from the list of stops\n",
    "5. Remove all items from stops\n",
    "\n",
    "Hint: Some of these methods will change the original object stops. If you make any unwanted changes and want to go back to the original object you can re-run the code chunks where we created the object stops and then appended \"Edinburgh Waverley\"."
   ]
  },
  {
   "cell_type": "code",
   "execution_count": 39,
   "metadata": {},
   "outputs": [
    {
     "name": "stdout",
     "output_type": "stream",
     "text": [
      "['Croy', 'Cumbernauld', 'Falkirk High', 'Linlithgow', 'Livingston', 'Haymarket', 'Edinburgh Waverley']\n",
      "['Queen Street', 'Croy', 'Cumbernauld', 'Falkirk High', 'Linlithgow', 'Livingston', 'Haymarket', 'Edinburgh Waverley']\n",
      "1\n",
      "['Queen Street', 'Croy', 'Cumbernauld', 'Falkirk High', 'Polmont', 'Linlithgow', 'Livingston', 'Haymarket', 'Edinburgh Waverley']\n",
      "['Queen Street', 'Croy', 'Cumbernauld', 'Falkirk High', 'Polmont', 'Linlithgow', 'Livingston', 'Edinburgh Waverley']\n",
      "[]\n"
     ]
    }
   ],
   "source": [
    "stops = [\"Croy\", \"Cumbernauld\", \"Falkirk High\", \n",
    "         \"Linlithgow\", \"Livingston\", \"Haymarket\"]\n",
    "\n",
    "stops.append(\"Edinburgh Waverley\")\n",
    "print(stops)\n",
    "\n",
    "stops.insert(0, \"Queen Street\")\n",
    "print(stops)\n",
    "\n",
    "print(stops.index(\"Croy\"))\n",
    "\n",
    "stops.insert(4, \"Polmont\")\n",
    "print(stops)\n",
    "stops.remove(\"Haymarket\")\n",
    "print(stops)\n",
    "stops.clear()\n",
    "print(stops)\n",
    "\n"
   ]
  },
  {
   "cell_type": "markdown",
   "metadata": {},
   "source": [
    "<br>\n",
    "\n",
    "## Question 3\n",
    "\n",
    "Set up the following dictionary:\n",
    "\n",
    "`person = {\"name\": \"Steph\", \"age\": 31, \"Instructor\" : True}`\n",
    "\n",
    "Do the following:\n",
    "\n",
    "1. Return the keys, values and items from this dictionary\n",
    "\n",
    "2. Take out only the name from it\n",
    "\n",
    "3. Add a new key:value pair, which adds the email \"steph@codeclan.com\" to the dictionary\n",
    "\n",
    "4. Delete the job description from the dictionary (*Hint: look up the `del` function*)\n"
   ]
  },
  {
   "cell_type": "code",
   "execution_count": 62,
   "metadata": {},
   "outputs": [
    {
     "name": "stdout",
     "output_type": "stream",
     "text": [
      "keys: dict_keys(['name', 'age', 'Instructor']) \n",
      "values: dict_values(['Steph', 31, True]) \n",
      "items: dict_items([('name', 'Steph'), ('age', 31), ('Instructor', True)])\n",
      "Steph\n",
      "{'name': 'Steph', 'age': 31, 'Instructor': True, 'email': 'steph@codeclan.com'}\n",
      "{'name': 'Steph', 'age': 31, 'email': 'steph@codeclan.com'}\n"
     ]
    }
   ],
   "source": [
    "person = {\"name\": \"Steph\", \"age\": 31, \"Instructor\" : True}\n",
    "\n",
    "print(\"keys:\",person.keys(), \"\\nvalues:\",person.values(),\"\\nitems:\",person.items())\n",
    "print(person[\"name\"])\n",
    "person[\"email\"] = \"steph@codeclan.com\"\n",
    "print(person)\n",
    "del person[\"Instructor\"]\n",
    "print(person)"
   ]
  },
  {
   "cell_type": "markdown",
   "metadata": {},
   "source": [
    "<br>\n",
    "\n",
    "## Question 4\n",
    "\n",
    "For the following list of numbers: \n",
    "\n",
    "`numbers = [1, 6, 2, 2, 7, 1, 6, 13, 99, 7]`\n",
    "\n",
    "1. Print out a list of the even integers:\n",
    "\n",
    "2. Print the difference between the largest and smallest value:\n",
    "\n",
    "3. Print True if the list contains a 2 next to a 2 somewhere.\n",
    "\n",
    "4. Print the sum of the numbers, BUT ignore any section of numbers starting with a 6 and extending to the next 7. So [11, 6, 4, 99, 7, 11] would have sum of 22\n"
   ]
  },
  {
   "cell_type": "code",
   "execution_count": 89,
   "metadata": {},
   "outputs": [
    {
     "name": "stdout",
     "output_type": "stream",
     "text": [
      "[6, 2, 2, 6]\n",
      "min = 1 \n",
      "max = 99\n",
      "True\n",
      "2\n"
     ]
    }
   ],
   "source": [
    "numbers = [1, 6, 2, 2, 7, 1, 6, 13, 99, 7]\n",
    "even_numbers = []\n",
    "max = None\n",
    "min = None\n",
    "curNo = None\n",
    "flag = None\n",
    "count = int()\n",
    "\n",
    "for i in numbers:\n",
    "    if i % 2 == 0:\n",
    "        even_numbers.append(i)\n",
    "\n",
    "print(even_numbers)\n",
    "\n",
    "for i in numbers:\n",
    "    if max == None or max < i:\n",
    "        max = i\n",
    "    if min == None or min > i: \n",
    "        min = i\n",
    "\n",
    "print(\"min =\", min, \"\\nmax =\", max)\n",
    "\n",
    "for i in numbers:\n",
    "    if curNo == i and curNo == 2:\n",
    "        print(\"True\")\n",
    "    curNo = i\n",
    "\n",
    "for i in numbers:\n",
    "    if i == 6:\n",
    "        flag = 1\n",
    "    if flag == None:\n",
    "        count += i\n",
    "    if flag == 1 and i == 7:\n",
    "        flag = None\n",
    "\n",
    "print(count)"
   ]
  },
  {
   "cell_type": "markdown",
   "metadata": {},
   "source": [
    "<br>\n",
    "\n",
    "## Question 5\n",
    "\n",
    "Write a conditional that takes in two inputs : \n",
    "\n",
    "* `python_is_fun = True`\n",
    "* `python_is_weird = True`\n",
    "\n",
    "We want to print \"Woo Python!\" if either `python_is_fun` is `true` OR `python_is_weird` is `true` OR both `python_is_fun` and `python_is_weird` are true. Otherwise, print `\"Python is not for me!\"`. Make sure you test all the combinations. "
   ]
  },
  {
   "cell_type": "code",
   "execution_count": 95,
   "metadata": {},
   "outputs": [
    {
     "name": "stdout",
     "output_type": "stream",
     "text": [
      "Woo Python!\n"
     ]
    }
   ],
   "source": [
    "python_is_fun = True\n",
    "python_is_weird = True\n",
    "\n",
    "if (python_is_fun == True and python_is_weird == True) or (python_is_fun == True or python_is_weird == True):\n",
    "    print(\"Woo Python!\")\n",
    "else:\n",
    "    print(\"Python is not for me!\")"
   ]
  },
  {
   "cell_type": "markdown",
   "metadata": {},
   "source": [
    "<br>\n",
    "\n",
    "## Question 6\n",
    "\n",
    "We have a list of chickens and the farmer would like to go through all the chickens, collecting the eggs and getting the total number of eggs collected.\n",
    "\n",
    "`chickens = [\n",
    "  { \"name\": \"Margaret\", \"age\": 2, \"eggs\": 0 },\n",
    "  { \"name\": \"Hetty\", \"age\": 1, \"eggs\": 2 },\n",
    "  { \"name\": \"Henrietta\", \"age\": 3, \"eggs\": 1 },\n",
    "  { \"name\": \"Audrey\", \"age\": 2, \"eggs\": 0 },\n",
    "  { \"name\": \"Mabel\", \"age\": 5, \"eggs\": 1 },\n",
    "]`\n",
    "\n",
    "\n",
    "To write this as a loop, we'd do something like this: \n",
    "\n",
    "`total_eggs = 0`\n",
    "\n",
    "`for chicken in chickens:\n",
    "    total_eggs += chicken[\"eggs\"]\n",
    "    chicken[\"eggs\"] = 0 # eggs have been collected`\n",
    "\n",
    "`print(f\"{total_eggs} eggs collected\")`\n",
    "\n",
    "Instead, we want to define a function which passes in a list, so that if we wanted to count eggs of a different list of chickens from another farm, we can use the same function, just pass in a different list.\n",
    "\n",
    "We also want to return the string at the end, instead of using `print`."
   ]
  },
  {
   "cell_type": "code",
   "execution_count": 113,
   "metadata": {},
   "outputs": [
    {
     "data": {
      "text/plain": [
       "'4 eggs collected'"
      ]
     },
     "execution_count": 113,
     "metadata": {},
     "output_type": "execute_result"
    }
   ],
   "source": [
    "chickens = [\n",
    "  { \"name\": \"Margaret\", \"age\": 2, \"eggs\": 0 },\n",
    "  { \"name\": \"Hetty\", \"age\": 1, \"eggs\": 2 },\n",
    "  { \"name\": \"Henrietta\", \"age\": 3, \"eggs\": 1 },\n",
    "  { \"name\": \"Audrey\", \"age\": 2, \"eggs\": 0 },\n",
    "  { \"name\": \"Mabel\", \"age\": 5, \"eggs\": 1 },\n",
    "]\n",
    "\n",
    "def count_eggs(chicken_list):\n",
    "    egg_count = int()\n",
    "    for i in chicken_list:\n",
    "        egg_count += i.get(\"eggs\")\n",
    "    return str(egg_count) + \" eggs collected\"\n",
    "\n",
    "count_eggs(chickens)\n"
   ]
  },
  {
   "cell_type": "markdown",
   "metadata": {},
   "source": [
    "<br>\n",
    "<hr>\n",
    "\n",
    "# Extensions\n",
    "\n",
    "\n",
    "## Question 1\n",
    "Set up the following collection: \n",
    "\n",
    "`\n",
    "united_kingdom = [\n",
    "  {\n",
    "    \"name\": \"Scotland\",\n",
    "    \"population\": 5295000,\n",
    "    \"capital\": \"Edinburgh\"\n",
    "  },\n",
    "  {\n",
    "    \"name\": \"Wales\",\n",
    "    \"population\": 3063000,\n",
    "    \"capital\": \"Swansea\"\n",
    "  },\n",
    "  {\n",
    "    \"name\": \"England\",\n",
    "    \"population\": 53010000,\n",
    "    \"capital\": \"London\"\n",
    "  }\n",
    "]`\n",
    "\n",
    "1. Change the capital of Wales from `\"Swansea\"` to `\"Cardiff\"`.\n",
    "\n",
    "2. Create a dictionary for Northern Ireland and add it to the `united_kingdom` list (The capital is Belfast, and the population is 1,811,000).\n",
    "\n",
    "3. Use a loop to print the names of all the countries in the UK.\n",
    "\n",
    "4. Use a loop to find the total population of the UK.\n"
   ]
  },
  {
   "cell_type": "code",
   "execution_count": 141,
   "metadata": {},
   "outputs": [
    {
     "name": "stdout",
     "output_type": "stream",
     "text": [
      "[{'name': 'Scotland', 'population': 5295000, 'capital': 'Edinburgh'}, {'name': 'Wales', 'population': 3063000, 'capital': 'Cardiff'}, {'name': 'England', 'population': 53010000, 'capital': 'London'}]\n",
      "[{'name': 'Scotland', 'population': 5295000, 'capital': 'Edinburgh'}, {'name': 'Wales', 'population': 3063000, 'capital': 'Cardiff'}, {'name': 'England', 'population': 53010000, 'capital': 'London'}, {'name': 'Northern Ireland', 'population': 1811000, 'capital': 'Belfast'}]\n",
      "Scotland\n",
      "Wales\n",
      "England\n",
      "Northern Ireland\n",
      "63179000\n"
     ]
    }
   ],
   "source": [
    "united_kingdom = [\n",
    "  {\n",
    "    \"name\": \"Scotland\",\n",
    "    \"population\": 5295000,\n",
    "    \"capital\": \"Edinburgh\"\n",
    "  },\n",
    "  {\n",
    "    \"name\": \"Wales\",\n",
    "    \"population\": 3063000,\n",
    "    \"capital\": \"Swansea\"\n",
    "  },\n",
    "  {\n",
    "    \"name\": \"England\",\n",
    "    \"population\": 53010000,\n",
    "    \"capital\": \"London\"\n",
    "  }\n",
    "]\n",
    "\n",
    "united_kingdom[1][\"capital\"] = \"Cardiff\"\n",
    "print(united_kingdom)\n",
    "\n",
    "united_kingdom.append({\n",
    "    \"name\": \"Northern Ireland\",\n",
    "    \"population\": 1811000,\n",
    "    \"capital\": \"Belfast\"\n",
    "})\n",
    "print(united_kingdom)\n",
    "\n",
    "for i in united_kingdom:\n",
    "    print(i.get(\"name\"))\n",
    "\n",
    "population = int()\n",
    "\n",
    "for i in united_kingdom:\n",
    "    population += i.get(\"population\")\n",
    "\n",
    "print(population)"
   ]
  },
  {
   "cell_type": "markdown",
   "metadata": {},
   "source": [
    "<br>\n",
    "\n",
    "## Question 2\n",
    "\n",
    "Set up the following:\n",
    "\n",
    "`users = {\n",
    "  \"Jonathan\": {\n",
    "    \"twitter\": \"jonnyt\",\n",
    "    \"lottery_numbers\": [6, 12, 49, 33, 45, 20],\n",
    "    \"home_town\": \"Stirling\",\n",
    "    \"pets\": [\n",
    "    {\n",
    "      \"name\": \"fluffy\",\n",
    "      \"species\": \"cat\"\n",
    "    },\n",
    "    {\n",
    "      \"name\": \"fido\",\n",
    "      \"species\": \"dog\"\n",
    "    },\n",
    "    {\n",
    "      \"name\": \"spike\",\n",
    "      \"species\": \"dog\"\n",
    "    }\n",
    "  ]\n",
    "  },\n",
    "  \"Erik\": {\n",
    "    \"twitter\": \"eriksf\",\n",
    "    \"lottery_numbers\": [18, 34, 8, 11, 24],\n",
    "    \"home_town\": \"Linlithgow\",\n",
    "    \"pets\": [\n",
    "    {\n",
    "      \"name\": \"nemo\",\n",
    "      \"species\": \"fish\"\n",
    "    },\n",
    "    {\n",
    "      \"name\": \"kevin\",\n",
    "      \"species\": \"fish\"\n",
    "    },\n",
    "    {\n",
    "      \"name\": \"spike\",\n",
    "      \"species\": \"dog\"\n",
    "    },\n",
    "    {\n",
    "      \"name\": \"rupert\",\n",
    "      \"species\": \"parrot\"\n",
    "    }\n",
    "  ]\n",
    "  },\n",
    "  \"Avril\": {\n",
    "    \"twitter\": \"bridgpally\",\n",
    "    \"lottery_numbers\": [12, 14, 33, 38, 9, 25],\n",
    "    \"home_town\": \"Dunbar\",\n",
    "    \"pets\": [\n",
    "      {\n",
    "        \"name\": \"monty\",\n",
    "        \"species\": \"snake\"\n",
    "      }\n",
    "    ]\n",
    "  }\n",
    "}`\n",
    "\n",
    "1. Get Jonathan's Twitter handle (i.e. the string `\"jonnyt\"`)\n",
    "2. Get Erik's hometown\n",
    "3. Get the array of Erik's lottery numbers\n",
    "4. Get the species of Avril's pet Monty\n",
    "5. Get the smallest of Erik's lottery numbers\n",
    "6. Return an array of Avril's lottery numbers that are even\n",
    "7. Erik is one lottery number short! Add the number `7` to be included in his lottery numbers\n",
    "8. Change Erik's hometown to Edinburgh\n",
    "9. Add a pet dog to Erik called \"Fluffy\"\n",
    "10. Add another person to the users dictionary\n"
   ]
  },
  {
   "cell_type": "code",
   "execution_count": 70,
   "metadata": {},
   "outputs": [
    {
     "name": "stdout",
     "output_type": "stream",
     "text": [
      "jonnyt\n",
      "Linlithgow\n",
      "[18, 34, 8, 11, 24]\n",
      "snake\n",
      "8\n",
      "[12, 14, 38]\n",
      "[18, 34, 8, 11, 24, 7]\n",
      "Edinburgh\n",
      "[{'name': 'nemo', 'species': 'fish'}, {'name': 'kevin', 'species': 'fish'}, {'name': 'spike', 'species': 'dog'}, {'name': 'rupert', 'species': 'parrot'}, {'name': 'fluffy', 'species': 'dog'}]\n",
      "{'twitter': None, 'lottery_numbers': (9, 18, 27, 36, 45, 3), 'home_town': 'Banchory', 'pets': [{'name': 'Saturday', 'species': 'cat'}]}\n"
     ]
    }
   ],
   "source": [
    "import numpy as np\n",
    "\n",
    "users = {\n",
    "  \"Jonathan\": {\n",
    "    \"twitter\": \"jonnyt\",\n",
    "    \"lottery_numbers\": [6, 12, 49, 33, 45, 20],\n",
    "    \"home_town\": \"Stirling\",\n",
    "    \"pets\": [\n",
    "    {\n",
    "      \"name\": \"fluffy\",\n",
    "      \"species\": \"cat\"\n",
    "    },\n",
    "    {\n",
    "      \"name\": \"fido\",\n",
    "      \"species\": \"dog\"\n",
    "    },\n",
    "    {\n",
    "      \"name\": \"spike\",\n",
    "      \"species\": \"dog\"\n",
    "    }\n",
    "  ]\n",
    "  },\n",
    "  \"Erik\": {\n",
    "    \"twitter\": \"eriksf\",\n",
    "    \"lottery_numbers\": [18, 34, 8, 11, 24],\n",
    "    \"home_town\": \"Linlithgow\",\n",
    "    \"pets\": [\n",
    "    {\n",
    "      \"name\": \"nemo\",\n",
    "      \"species\": \"fish\"\n",
    "    },\n",
    "    {\n",
    "      \"name\": \"kevin\",\n",
    "      \"species\": \"fish\"\n",
    "    },\n",
    "    {\n",
    "      \"name\": \"spike\",\n",
    "      \"species\": \"dog\"\n",
    "    },\n",
    "    {\n",
    "      \"name\": \"rupert\",\n",
    "      \"species\": \"parrot\"\n",
    "    }\n",
    "  ]\n",
    "  },\n",
    "  \"Avril\": {\n",
    "    \"twitter\": \"bridgpally\",\n",
    "    \"lottery_numbers\": [12, 14, 33, 38, 9, 25],\n",
    "    \"home_town\": \"Dunbar\",\n",
    "    \"pets\": [\n",
    "      {\n",
    "        \"name\": \"monty\",\n",
    "        \"species\": \"snake\"\n",
    "      }\n",
    "    ]\n",
    "  }\n",
    "}\n",
    "\n",
    "print(users[\"Jonathan\"].get(\"twitter\"))\n",
    "print(users[\"Erik\"].get(\"home_town\"))\n",
    "print(users[\"Erik\"].get(\"lottery_numbers\"))\n",
    "print(users[\"Avril\"][\"pets\"][\"name\" == \"monty\"].get(\"species\"))\n",
    "print(sorted(users[\"Erik\"][\"lottery_numbers\"])[0])\n",
    "\n",
    "even_nos = []\n",
    "for i in users[\"Avril\"][\"lottery_numbers\"]:\n",
    "  if i % 2 == 0:\n",
    "    even_nos.append(i)\n",
    "print(even_nos)\n",
    "\n",
    "users[\"Erik\"][\"lottery_numbers\"].append(7)\n",
    "print(users[\"Erik\"][\"lottery_numbers\"])\n",
    "\n",
    "users[\"Erik\"][\"home_town\"] = \"Edinburgh\"\n",
    "print(users[\"Erik\"][\"home_town\"])\n",
    "\n",
    "users[\"Erik\"][\"pets\"].append({\"name\":\"fluffy\", \"species\": \"dog\"})\n",
    "print(users[\"Erik\"][\"pets\"])\n",
    "\n",
    "users[\"Andrew\"] = {\n",
    "  \"twitter\" : None, \n",
    "  \"lottery_numbers\": (9, 18, 27, 36, 45, 3), \n",
    "  \"home_town\": \"Banchory\", \n",
    "  \"pets\": [\n",
    "    {\"name\": \"Saturday\", \"species\": \"cat\"}]\n",
    "    }\n",
    "\n",
    "print(users[\"Andrew\"])"
   ]
  }
 ],
 "metadata": {
  "kernelspec": {
   "display_name": "Python 3",
   "language": "python",
   "name": "python3"
  },
  "language_info": {
   "codemirror_mode": {
    "name": "ipython",
    "version": 3
   },
   "file_extension": ".py",
   "mimetype": "text/x-python",
   "name": "python",
   "nbconvert_exporter": "python",
   "pygments_lexer": "ipython3",
   "version": "3.9.13"
  },
  "toc": {
   "base_numbering": 1,
   "nav_menu": {},
   "number_sections": true,
   "sideBar": true,
   "skip_h1_title": false,
   "title_cell": "Table of Contents",
   "title_sidebar": "Contents",
   "toc_cell": false,
   "toc_position": {},
   "toc_section_display": true,
   "toc_window_display": false
  },
  "varInspector": {
   "cols": {
    "lenName": 16,
    "lenType": 16,
    "lenVar": 40
   },
   "kernels_config": {
    "python": {
     "delete_cmd_postfix": "",
     "delete_cmd_prefix": "del ",
     "library": "var_list.py",
     "varRefreshCmd": "print(var_dic_list())"
    },
    "r": {
     "delete_cmd_postfix": ") ",
     "delete_cmd_prefix": "rm(",
     "library": "var_list.r",
     "varRefreshCmd": "cat(var_dic_list()) "
    }
   },
   "types_to_exclude": [
    "module",
    "function",
    "builtin_function_or_method",
    "instance",
    "_Feature"
   ],
   "window_display": false
  },
  "vscode": {
   "interpreter": {
    "hash": "c34a59a0ce091bc8d327200ef9b757816172712cb254c8147e026d8e4727d887"
   }
  }
 },
 "nbformat": 4,
 "nbformat_minor": 2
}
